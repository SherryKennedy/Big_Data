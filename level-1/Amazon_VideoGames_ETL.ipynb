{
 "cells": [
  {
   "cell_type": "code",
   "execution_count": 32,
   "metadata": {
    "colab": {
     "base_uri": "https://localhost:8080/"
    },
    "id": "Y6pz7LGh_L1p",
    "outputId": "9e900409-f0b8-495d-d403-149206bc1da7"
   },
   "outputs": [
    {
     "name": "stdout",
     "output_type": "stream",
     "text": [
      "\r",
      "0% [Working]\r",
      "            \r",
      "Get:1 http://security.ubuntu.com/ubuntu bionic-security InRelease [88.7 kB]\n",
      "\r",
      "0% [Connecting to archive.ubuntu.com (91.189.88.142)] [1 InRelease 14.2 kB/88.7\r",
      "                                                                               \r",
      "Ign:2 https://developer.download.nvidia.com/compute/cuda/repos/ubuntu1804/x86_64  InRelease\n",
      "\r",
      "0% [Waiting for headers] [1 InRelease 43.1 kB/88.7 kB 49%] [Connected to cloud.\r",
      "0% [Waiting for headers] [Waiting for headers] [Waiting for headers] [Waiting f\r",
      "                                                                               \r",
      "Hit:3 https://cloud.r-project.org/bin/linux/ubuntu bionic-cran40/ InRelease\n",
      "\r",
      "                                                                               \r",
      "0% [Waiting for headers] [Waiting for headers] [Waiting for headers]\r",
      "0% [1 InRelease gpgv 88.7 kB] [Waiting for headers] [Waiting for headers] [Wait\r",
      "                                                                               \r",
      "Hit:4 http://ppa.launchpad.net/c2d4u.team/c2d4u4.0+/ubuntu bionic InRelease\n",
      "\r",
      "0% [1 InRelease gpgv 88.7 kB] [Waiting for headers] [Connecting to ppa.launchpa\r",
      "                                                                               \r",
      "Ign:5 https://developer.download.nvidia.com/compute/machine-learning/repos/ubuntu1804/x86_64  InRelease\n",
      "\r",
      "0% [1 InRelease gpgv 88.7 kB] [Waiting for headers] [Connecting to ppa.launchpa\r",
      "                                                                               \r",
      "Hit:6 https://developer.download.nvidia.com/compute/cuda/repos/ubuntu1804/x86_64  Release\n",
      "\r",
      "0% [1 InRelease gpgv 88.7 kB] [Waiting for headers] [Connecting to ppa.launchpa\r",
      "                                                                               \r",
      "Hit:7 http://archive.ubuntu.com/ubuntu bionic InRelease\n",
      "Hit:8 https://developer.download.nvidia.com/compute/machine-learning/repos/ubuntu1804/x86_64  Release\n",
      "Get:9 http://archive.ubuntu.com/ubuntu bionic-updates InRelease [88.7 kB]\n",
      "Hit:10 http://ppa.launchpad.net/cran/libgit2/ubuntu bionic InRelease\n",
      "Hit:11 http://ppa.launchpad.net/deadsnakes/ppa/ubuntu bionic InRelease\n",
      "Get:12 http://archive.ubuntu.com/ubuntu bionic-backports InRelease [74.6 kB]\n",
      "Hit:13 http://ppa.launchpad.net/graphics-drivers/ppa/ubuntu bionic InRelease\n",
      "Fetched 252 kB in 3s (76.1 kB/s)\n",
      "Reading package lists... Done\n"
     ]
    }
   ],
   "source": [
    "import os\n",
    "# Find the latest version of spark 3.0  from http://www.apache.org/dist/spark/ and enter as the spark version\n",
    "spark_version = 'spark-3.2.1'\n",
    "os.environ['SPARK_VERSION']=spark_version\n",
    "\n",
    "# Install Spark and Java\n",
    "!apt-get update\n",
    "!apt-get install openjdk-8-jdk-headless -qq > /dev/null\n",
    "!wget -q http://www.apache.org/dist/spark/$SPARK_VERSION/$SPARK_VERSION-bin-hadoop2.7.tgz\n",
    "!tar xf $SPARK_VERSION-bin-hadoop2.7.tgz\n",
    "!pip install -q findspark\n",
    "\n",
    "# Set Environment Variables\n",
    "os.environ[\"JAVA_HOME\"] = \"/usr/lib/jvm/java-8-openjdk-amd64\"\n",
    "os.environ[\"SPARK_HOME\"] = f\"/content/{spark_version}-bin-hadoop2.7\"\n",
    "\n",
    "# Start a SparkSession\n",
    "import findspark\n",
    "findspark.init()"
   ]
  },
  {
   "cell_type": "code",
   "execution_count": 33,
   "metadata": {
    "colab": {
     "base_uri": "https://localhost:8080/"
    },
    "id": "UR6XwqhsJsRh",
    "outputId": "e4c98d17-70a5-4eaa-942b-acc25bfe4a83"
   },
   "outputs": [
    {
     "name": "stdout",
     "output_type": "stream",
     "text": [
      "--2022-02-08 21:26:46--  https://jdbc.postgresql.org/download/postgresql-42.2.9.jar\n",
      "Resolving jdbc.postgresql.org (jdbc.postgresql.org)... 72.32.157.228, 2001:4800:3e1:1::228\n",
      "Connecting to jdbc.postgresql.org (jdbc.postgresql.org)|72.32.157.228|:443... connected.\n",
      "HTTP request sent, awaiting response... 200 OK\n",
      "Length: 914037 (893K) [application/java-archive]\n",
      "Saving to: ‘postgresql-42.2.9.jar.2’\n",
      "\n",
      "postgresql-42.2.9.j 100%[===================>] 892.61K  --.-KB/s    in 0.1s    \n",
      "\n",
      "2022-02-08 21:26:46 (5.92 MB/s) - ‘postgresql-42.2.9.jar.2’ saved [914037/914037]\n",
      "\n"
     ]
    }
   ],
   "source": [
    "!wget https://jdbc.postgresql.org/download/postgresql-42.2.9.jar"
   ]
  },
  {
   "cell_type": "code",
   "execution_count": 34,
   "metadata": {
    "id": "kk4Q9TS2JsRh"
   },
   "outputs": [],
   "source": [
    "from pyspark.sql import SparkSession\n",
    "spark = SparkSession.builder.appName(\"CloudETL\").config(\"spark.driver.extraClassPath\",\"/content/postgresql-42.2.9.jar\").getOrCreate()\n"
   ]
  },
  {
   "cell_type": "markdown",
   "metadata": {
    "id": "bluE5biYfwat"
   },
   "source": [
    "# EXTRACT"
   ]
  },
  {
   "cell_type": "code",
   "execution_count": 35,
   "metadata": {
    "colab": {
     "base_uri": "https://localhost:8080/"
    },
    "id": "aIGU4Tzs_Q4g",
    "outputId": "dd5c11a7-bbf6-471c-acd0-64432e61d842"
   },
   "outputs": [
    {
     "name": "stdout",
     "output_type": "stream",
     "text": [
      "+-----------+-----------+--------------+----------+--------------+--------------------+-------------------+-----------+-------------+-----------+----+-----------------+--------------------+--------------------+-------------------+\n",
      "|marketplace|customer_id|     review_id|product_id|product_parent|       product_title|   product_category|star_rating|helpful_votes|total_votes|vine|verified_purchase|     review_headline|         review_body|        review_date|\n",
      "+-----------+-----------+--------------+----------+--------------+--------------------+-------------------+-----------+-------------+-----------+----+-----------------+--------------------+--------------------+-------------------+\n",
      "|         US|   21269168| RSH1OZ87OYK92|B013PURRZW|     603406193|Madden NFL 16 - X...|Digital_Video_Games|          2|            2|          3|   N|                N|A slight improvem...|I keep buying mad...|2015-01-31 00:08:00|\n",
      "|         US|     133437|R1WFOQ3N9BO65I|B00F4CEHNK|     341969535| Xbox Live Gift Card|Digital_Video_Games|          5|            0|          0|   N|                Y|          Five Stars|             Awesome|2015-01-31 00:08:00|\n",
      "|         US|   45765011| R3YOOS71KM5M9|B00DNHLFQA|     951665344|Command & Conquer...|Digital_Video_Games|          5|            0|          0|   N|                Y|Hail to the great...|If you are preppi...|2015-01-31 00:08:00|\n",
      "|         US|     113118|R3R14UATT3OUFU|B004RMK5QG|     395682204|Playstation Plus ...|Digital_Video_Games|          5|            0|          0|   N|                Y|          Five Stars|             Perfect|2015-01-31 00:08:00|\n",
      "|         US|   22151364| RV2W9SGDNQA2C|B00G9BNLQE|     640460561|Saints Row IV - E...|Digital_Video_Games|          5|            0|          0|   N|                Y|          Five Stars|            Awesome!|2015-01-31 00:08:00|\n",
      "|         US|   22151364|R3CFKLIZ0I2KOB|B00IMIL498|     621922192|Double Dragon: Ne...|Digital_Video_Games|          5|            0|          0|   N|                Y|          Five Stars|            Awesome!|2015-01-31 00:08:00|\n",
      "|         US|   38426028|R1LRYU1V0T3O38|B00S00IJH8|     215163395|              Sims 4|Digital_Video_Games|          4|            0|          0|   N|                Y|i like the new sk...|i like the new sk...|2015-01-31 00:08:00|\n",
      "|         US|    6057518| R44QKV6FE5CJ2|B004RMK4BC|     384246568|Playstation Netwo...|Digital_Video_Games|          5|            0|          0|   N|                Y|          Five Stars|               Super|2015-01-31 00:08:00|\n",
      "|         US|   20715661|R2TX1KLPXXXNYS|B00K59HKIQ|     384246568|Playstation Netwo...|Digital_Video_Games|          5|            0|          0|   N|                Y|         Easy & Fast|Excellent, fast a...|2015-01-31 00:08:00|\n",
      "|         US|   26540306|R1JEEW4C6R89BA|B00K59HKIQ|     384246568|Playstation Netwo...|Digital_Video_Games|          5|            0|          0|   N|                Y|          Five Stars|                  Ok|2015-01-31 00:08:00|\n",
      "+-----------+-----------+--------------+----------+--------------+--------------------+-------------------+-----------+-------------+-----------+----+-----------------+--------------------+--------------------+-------------------+\n",
      "only showing top 10 rows\n",
      "\n"
     ]
    }
   ],
   "source": [
    "# Read in the data from S3 Buckets from Amazon\n",
    "from pyspark import SparkFiles\n",
    "# Load in Outdoor data from S3 into a DataFrame\n",
    "url = \"https://s3.amazonaws.com/amazon-reviews-pds/tsv/amazon_reviews_us_Digital_Video_Games_v1_00.tsv.gz\"\n",
    "spark.sparkContext.addFile(url)\n",
    "\n",
    "df = spark.read.option('header', 'true').csv(SparkFiles.get(\"amazon_reviews_us_Digital_Video_Games_v1_00.tsv.gz\"), inferSchema=True, sep='\\t', timestampFormat=\"yyyy-mm-dd\")\n",
    "df.show(10)\n"
   ]
  },
  {
   "cell_type": "markdown",
   "metadata": {
    "id": "Vdhi7Genf3vH"
   },
   "source": [
    "# TRANSFORM"
   ]
  },
  {
   "cell_type": "markdown",
   "metadata": {
    "id": "kdtKPZ1w_V3e"
   },
   "source": [
    "## Counting Records: Drop duplicates and incomplete rows"
   ]
  },
  {
   "cell_type": "code",
   "execution_count": 36,
   "metadata": {
    "colab": {
     "base_uri": "https://localhost:8080/"
    },
    "id": "10qoqQv3_Y_w",
    "outputId": "e7cebef8-c77d-439b-e64f-ccaccf821039"
   },
   "outputs": [
    {
     "name": "stdout",
     "output_type": "stream",
     "text": [
      "145431\n",
      "145425\n",
      "145425\n"
     ]
    }
   ],
   "source": [
    "print(df.count())\n",
    "df = df.dropna()\n",
    "print(df.count())\n",
    "df = df.dropDuplicates()\n",
    "print(df.count())"
   ]
  },
  {
   "cell_type": "markdown",
   "metadata": {
    "id": "GAgvBYkG_awE"
   },
   "source": [
    "## Examine the schema"
   ]
  },
  {
   "cell_type": "code",
   "execution_count": 37,
   "metadata": {
    "colab": {
     "base_uri": "https://localhost:8080/"
    },
    "id": "SXtPi-Hw_dCe",
    "outputId": "9eb33ff5-1197-4787-d699-1dd3c634dd4d"
   },
   "outputs": [
    {
     "name": "stdout",
     "output_type": "stream",
     "text": [
      "root\n",
      " |-- marketplace: string (nullable = true)\n",
      " |-- customer_id: integer (nullable = true)\n",
      " |-- review_id: string (nullable = true)\n",
      " |-- product_id: string (nullable = true)\n",
      " |-- product_parent: integer (nullable = true)\n",
      " |-- product_title: string (nullable = true)\n",
      " |-- product_category: string (nullable = true)\n",
      " |-- star_rating: integer (nullable = true)\n",
      " |-- helpful_votes: integer (nullable = true)\n",
      " |-- total_votes: integer (nullable = true)\n",
      " |-- vine: string (nullable = true)\n",
      " |-- verified_purchase: string (nullable = true)\n",
      " |-- review_headline: string (nullable = true)\n",
      " |-- review_body: string (nullable = true)\n",
      " |-- review_date: timestamp (nullable = true)\n",
      "\n"
     ]
    }
   ],
   "source": [
    "df.printSchema()"
   ]
  },
  {
   "cell_type": "markdown",
   "metadata": {
    "id": "CcVQNCFPO8B6"
   },
   "source": [
    "review_id_table create"
   ]
  },
  {
   "cell_type": "code",
   "execution_count": 18,
   "metadata": {
    "colab": {
     "base_uri": "https://localhost:8080/"
    },
    "id": "IZ3xmUMXlyQC",
    "outputId": "3ec8d710-788b-41fc-b241-fdc6879c1792"
   },
   "outputs": [
    {
     "name": "stdout",
     "output_type": "stream",
     "text": [
      "+--------------+-----------+----------+--------------+-------------------+\n",
      "|     review_id|customer_id|product_id|product_parent|        review_date|\n",
      "+--------------+-----------+----------+--------------+-------------------+\n",
      "|R1EB82XGHB4AXH|   40847927|B003YCQF3C|     452532551|2015-01-31 00:08:00|\n",
      "|R10DEIO121647A|   47628015|B00C7B0G9A|     872270797|2015-01-30 00:08:00|\n",
      "|R35QUODBLL4EZY|   38321201|B00B7S3KYM|     186820002|2015-01-30 00:08:00|\n",
      "|R1FWYLPPOALS93|   24626672|B00F4CEHNK|     341969535|2015-01-23 00:08:00|\n",
      "| R8595SHEBU8G7|   15954061|B010KYDNDG|     835376637|2015-01-22 00:08:00|\n",
      "|R1ZNBPJ7NVOUZU|   17216137|B004RMK4BC|     384246568|2015-01-21 00:08:00|\n",
      "|R1T6XC74YL1LDH|    3567827|B00KN7B1VM|     579541505|2015-01-20 00:08:00|\n",
      "|R17A3O274JIQL8|   14980848|B0043EWK5W|     712579588|2015-01-20 00:08:00|\n",
      "| RZTT5EIPOZKIW|   20470522|B003BVIXWW|      20478250|2015-01-18 00:08:00|\n",
      "|R319RKHRPKYQJU|    7476163|B004RMK4BC|     384246568|2015-01-14 00:08:00|\n",
      "| R9UW1ROSUUIOL|    2052261|B0029LHY7U|     428439233|2015-01-01 00:08:00|\n",
      "|R2WN78GAUPS5MG|   35834763|B00GAC1D2G|     384246568|2015-01-01 00:08:00|\n",
      "|R1JOIS4WX1829R|   44182911|B00GXHJJWE|     340890819|2015-01-31 00:07:00|\n",
      "|R304ZAYNDIKXY2|   45882026|B004RMK4BC|     384246568|2015-01-29 00:07:00|\n",
      "|R2E0MC1MUBFB1U|   36904247|B00M1WF4Q0|     777162678|2015-01-27 00:07:00|\n",
      "| RTF0PI9TZ2EWY|   45039119|B00PYJTUSA|      56157800|2015-01-25 00:07:00|\n",
      "|R2RL6ESV9DVSL4|   34444211|B00JAK0LBE|     860926792|2015-01-22 00:07:00|\n",
      "| RGOXOFO3NBUSG|     558994|B004RMK4BC|     384246568|2015-01-20 00:07:00|\n",
      "|R2CW7GX71VDUE3|   31072576|B00DGZDFLW|     740994580|2015-01-19 00:07:00|\n",
      "|R1HCHI611N48ZW|   21746839|B00PZ0DT4E|     425680398|2015-01-19 00:07:00|\n",
      "+--------------+-----------+----------+--------------+-------------------+\n",
      "only showing top 20 rows\n",
      "\n"
     ]
    }
   ],
   "source": [
    "## Creater review_id_table DataFrame\n",
    "review_id_table_df = df.select([\"review_id\",\"customer_id\",\"product_id\", \"product_parent\",\"review_date\"])\n",
    "review_id_table_df.show()"
   ]
  },
  {
   "cell_type": "code",
   "execution_count": 38,
   "metadata": {
    "colab": {
     "base_uri": "https://localhost:8080/"
    },
    "id": "oZ1yh_nErvjm",
    "outputId": "27706b55-6a1b-4729-f405-6c30789a2bd2"
   },
   "outputs": [
    {
     "name": "stdout",
     "output_type": "stream",
     "text": [
      "root\n",
      " |-- review_id: string (nullable = true)\n",
      " |-- customer_id: integer (nullable = true)\n",
      " |-- product_id: string (nullable = true)\n",
      " |-- product_parent: integer (nullable = true)\n",
      " |-- review_date: timestamp (nullable = true)\n",
      "\n"
     ]
    }
   ],
   "source": [
    "# Print schema\n",
    "review_id_table_df.printSchema()"
   ]
  },
  {
   "cell_type": "markdown",
   "metadata": {
    "id": "YySg4LKaPG1m"
   },
   "source": [
    "Products table"
   ]
  },
  {
   "cell_type": "code",
   "execution_count": 39,
   "metadata": {
    "colab": {
     "base_uri": "https://localhost:8080/"
    },
    "id": "hPoyebAssP5O",
    "outputId": "1e40bf4f-348a-4826-ca8b-41b526182af9"
   },
   "outputs": [
    {
     "name": "stdout",
     "output_type": "stream",
     "text": [
      "+----------+--------------------+\n",
      "|product_id|       product_title|\n",
      "+----------+--------------------+\n",
      "|B001TK3VTC|Cubis Gold 2 [Dow...|\n",
      "|B002MUB0TG|Little Shop of Tr...|\n",
      "|B00DRO824C|X2 The Threat [On...|\n",
      "|B00CMDKNHI| 100% Hidden Objects|\n",
      "|B00CMSCTA2|Age of Empires II...|\n",
      "|B00GDHD3LW|1 Month Subscript...|\n",
      "|B00OM1VVJM|            NBa 2K15|\n",
      "|B005XOJ6NK|   Sonic Generations|\n",
      "|B00GGUHGGY|Call of Duty Blac...|\n",
      "|B00A9XQ890|Grand Theft Auto:...|\n",
      "|B003YMMGEE|Sniper: Ghost War...|\n",
      "|B00405RA04|Rome: Total War -...|\n",
      "|B0083KX9IO|Stronghold Kingdo...|\n",
      "|B00M0W1YZQ|Chronicles of Wit...|\n",
      "|B00895ARJC|  Syberia [Download]|\n",
      "|B0084FHQ1O|The Stronghold Co...|\n",
      "|B00KK9PR90|Freddi Fish 3: Th...|\n",
      "|B001KC01OW|Wonderlines [Down...|\n",
      "|B008TTPTOQ|Battlefield Bad C...|\n",
      "|B00DGZDGUM|Nascar The Game 2...|\n",
      "+----------+--------------------+\n",
      "only showing top 20 rows\n",
      "\n"
     ]
    }
   ],
   "source": [
    "# Create product dataframe to match products table(only unique values)\n",
    "products_df = df.select([\"product_id\",\"product_title\"])\n",
    "products_df = products_df.dropDuplicates()\n",
    "products_df.show()\n"
   ]
  },
  {
   "cell_type": "markdown",
   "metadata": {
    "id": "TzrrMtm-PNcY"
   },
   "source": [
    "Customers table"
   ]
  },
  {
   "cell_type": "code",
   "execution_count": 40,
   "metadata": {
    "colab": {
     "base_uri": "https://localhost:8080/"
    },
    "id": "Sv-9C5vhtaTA",
    "outputId": "3c64b0b7-0f7e-4d4b-a915-1104a10d535f"
   },
   "outputs": [
    {
     "name": "stdout",
     "output_type": "stream",
     "text": [
      "+-----------+--------------+\n",
      "|customer_id|customer_count|\n",
      "+-----------+--------------+\n",
      "|   21925455|            95|\n",
      "|   40955995|            92|\n",
      "|   23564949|            83|\n",
      "|   52520442|            73|\n",
      "|   14279279|            72|\n",
      "|   51520185|            65|\n",
      "|   20751317|            54|\n",
      "|   25575022|            49|\n",
      "|   50529050|            49|\n",
      "|   11584162|            49|\n",
      "|   36527466|            48|\n",
      "|   39942708|            48|\n",
      "|   31012456|            46|\n",
      "|   52919259|            45|\n",
      "|   19371429|            43|\n",
      "|   46544620|            43|\n",
      "|   53080901|            42|\n",
      "|   26151231|            42|\n",
      "|   45688707|            40|\n",
      "|   44751489|            39|\n",
      "+-----------+--------------+\n",
      "only showing top 20 rows\n",
      "\n"
     ]
    }
   ],
   "source": [
    "# Create customers dataframe to match customers table\n",
    "from pyspark.sql.functions import desc\n",
    "\n",
    "customers_df = df.groupby(\"customer_id\").agg({\"customer_id\":\"count\"})\n",
    "customers_df = customers_df.orderBy(desc(\"count(customer_id)\"))\n",
    "customers_df = customers_df.withColumnRenamed(\"count(customer_id)\", \"customer_count\") \n",
    "customers_df.show()"
   ]
  },
  {
   "cell_type": "markdown",
   "metadata": {
    "id": "O99XfYCWPUx4"
   },
   "source": [
    "Vine table"
   ]
  },
  {
   "cell_type": "code",
   "execution_count": 41,
   "metadata": {
    "colab": {
     "base_uri": "https://localhost:8080/"
    },
    "id": "QUPVAbqPuAYt",
    "outputId": "3c170139-a9d3-4338-b1d5-8a696900f925"
   },
   "outputs": [
    {
     "name": "stdout",
     "output_type": "stream",
     "text": [
      "+--------------+-----------+-------------+-----------+----+\n",
      "|     review_id|star_rating|helpful_votes|total_votes|vine|\n",
      "+--------------+-----------+-------------+-----------+----+\n",
      "|R1EB82XGHB4AXH|          4|            0|          0|   N|\n",
      "|R10DEIO121647A|          1|            1|          3|   N|\n",
      "|R35QUODBLL4EZY|          4|            0|          0|   N|\n",
      "|R1FWYLPPOALS93|          5|            0|          0|   N|\n",
      "| R8595SHEBU8G7|          5|            0|          0|   N|\n",
      "|R1ZNBPJ7NVOUZU|          5|            0|          0|   N|\n",
      "|R1T6XC74YL1LDH|          4|            0|          0|   N|\n",
      "|R17A3O274JIQL8|          1|            0|          0|   N|\n",
      "| RZTT5EIPOZKIW|          1|            0|          0|   N|\n",
      "|R319RKHRPKYQJU|          5|            0|          0|   N|\n",
      "| R9UW1ROSUUIOL|          4|            1|          1|   N|\n",
      "|R2WN78GAUPS5MG|          5|            0|          0|   N|\n",
      "|R1JOIS4WX1829R|          5|            0|          0|   N|\n",
      "|R304ZAYNDIKXY2|          5|            0|          0|   N|\n",
      "|R2E0MC1MUBFB1U|          4|            0|          1|   N|\n",
      "| RTF0PI9TZ2EWY|          1|            1|          1|   N|\n",
      "|R2RL6ESV9DVSL4|          5|            0|          0|   N|\n",
      "| RGOXOFO3NBUSG|          5|            0|          0|   N|\n",
      "|R2CW7GX71VDUE3|          4|            0|          0|   N|\n",
      "|R1HCHI611N48ZW|          5|            1|          1|   N|\n",
      "+--------------+-----------+-------------+-----------+----+\n",
      "only showing top 20 rows\n",
      "\n"
     ]
    }
   ],
   "source": [
    "# Create vine_table DataFrame\n",
    "\n",
    "# Load in a sql function to use columns\n",
    "from pyspark.sql.functions import col\n",
    "\n",
    "vine_table_df = df.select([\"review_id\",\"star_rating\",\"helpful_votes\", \"total_votes\",\"vine\"])\n",
    "\n",
    "vine_table_df.show() "
   ]
  },
  {
   "cell_type": "code",
   "execution_count": null,
   "metadata": {
    "id": "lHxC5GMpv-Me"
   },
   "outputs": [],
   "source": [
    "# DataFrame to RDS\n",
    "# Configuration for RDS instance\n",
    "mode=\"append\"\n",
    "jdbc_url = \"jdbc:postgresql://<edit insert connection here>:5432/<edit db name>\"\n",
    "config = {\"user\":\"root\",\n",
    "          \"password\": \"<insert password>\",\n",
    "          \"driver\":\"org.postgresql.Driver\"}"
   ]
  },
  {
   "cell_type": "markdown",
   "metadata": {
    "id": "Q-foVkKPKQBC"
   },
   "source": [
    "Load DataFrame to RDS"
   ]
  },
  {
   "cell_type": "code",
   "execution_count": 43,
   "metadata": {
    "id": "NB4B7yOAv-X3"
   },
   "outputs": [],
   "source": [
    "# Write DataFrame to RDS\n",
    "review_id_table_df.write.jdbc(url=jdbc_url, table='review_id_table', mode=mode, properties=config)\n"
   ]
  },
  {
   "cell_type": "code",
   "execution_count": 44,
   "metadata": {
    "id": "MSlTvjDMv-da"
   },
   "outputs": [],
   "source": [
    "# Write DataFrame to products table in RDS\n",
    "products_df.write.jdbc(url=jdbc_url, table='products', mode=mode, properties=config)\n"
   ]
  },
  {
   "cell_type": "code",
   "execution_count": 45,
   "metadata": {
    "id": "0OBannh2v-iZ"
   },
   "outputs": [],
   "source": [
    "# Write DataFrame to customers table in RDS\n",
    "customers_df.write.jdbc(url=jdbc_url, table='customers', mode=mode, properties=config)\n"
   ]
  },
  {
   "cell_type": "code",
   "execution_count": 46,
   "metadata": {
    "id": "afoM2oPyxKw9"
   },
   "outputs": [],
   "source": [
    "# Write DataFrame to vine_table table in RDS\n",
    "vine_table_df.write.jdbc(url=jdbc_url, table='vine_table', mode=mode, properties=config)\n"
   ]
  },
  {
   "cell_type": "code",
   "execution_count": null,
   "metadata": {
    "id": "ZRh8IZwhxKzS"
   },
   "outputs": [],
   "source": []
  }
 ],
 "metadata": {
  "colab": {
   "collapsed_sections": [],
   "name": "Amazon-VideoGames-ETL.ipynb",
   "provenance": []
  },
  "kernelspec": {
   "display_name": "Python 3",
   "language": "python",
   "name": "python3"
  },
  "language_info": {
   "codemirror_mode": {
    "name": "ipython",
    "version": 3
   },
   "file_extension": ".py",
   "mimetype": "text/x-python",
   "name": "python",
   "nbconvert_exporter": "python",
   "pygments_lexer": "ipython3",
   "version": "3.6.13"
  },
  "latex_envs": {
   "LaTeX_envs_menu_present": true,
   "autoclose": false,
   "autocomplete": true,
   "bibliofile": "biblio.bib",
   "cite_by": "apalike",
   "current_citInitial": 1,
   "eqLabelWithNumbers": true,
   "eqNumInitial": 1,
   "hotkeys": {
    "equation": "Ctrl-E",
    "itemize": "Ctrl-I"
   },
   "labels_anchors": false,
   "latex_user_defs": false,
   "report_style_numbering": false,
   "user_envs_cfg": false
  }
 },
 "nbformat": 4,
 "nbformat_minor": 1
}
