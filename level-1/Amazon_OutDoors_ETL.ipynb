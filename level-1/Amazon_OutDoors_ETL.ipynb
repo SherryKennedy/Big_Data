{
 "cells": [
  {
   "cell_type": "code",
   "execution_count": 43,
   "metadata": {
    "colab": {
     "base_uri": "https://localhost:8080/"
    },
    "id": "Y6pz7LGh_L1p",
    "outputId": "ba27df0e-256d-4f88-aa04-681b22614137"
   },
   "outputs": [
    {
     "name": "stdout",
     "output_type": "stream",
     "text": [
      "\r",
      "0% [Working]\r",
      "            \r",
      "Hit:1 https://cloud.r-project.org/bin/linux/ubuntu bionic-cran40/ InRelease\n",
      "Ign:2 https://developer.download.nvidia.com/compute/cuda/repos/ubuntu1804/x86_64  InRelease\n",
      "Ign:3 https://developer.download.nvidia.com/compute/machine-learning/repos/ubuntu1804/x86_64  InRelease\n",
      "Get:4 http://security.ubuntu.com/ubuntu bionic-security InRelease [88.7 kB]\n",
      "Hit:5 https://developer.download.nvidia.com/compute/cuda/repos/ubuntu1804/x86_64  Release\n",
      "Hit:6 https://developer.download.nvidia.com/compute/machine-learning/repos/ubuntu1804/x86_64  Release\n",
      "Hit:7 http://archive.ubuntu.com/ubuntu bionic InRelease\n",
      "Hit:8 http://ppa.launchpad.net/c2d4u.team/c2d4u4.0+/ubuntu bionic InRelease\n",
      "Get:9 http://archive.ubuntu.com/ubuntu bionic-updates InRelease [88.7 kB]\n",
      "Hit:10 http://ppa.launchpad.net/cran/libgit2/ubuntu bionic InRelease\n",
      "Hit:13 http://ppa.launchpad.net/deadsnakes/ppa/ubuntu bionic InRelease\n",
      "Get:14 http://archive.ubuntu.com/ubuntu bionic-backports InRelease [74.6 kB]\n",
      "Hit:15 http://ppa.launchpad.net/graphics-drivers/ppa/ubuntu bionic InRelease\n",
      "Fetched 252 kB in 3s (91.0 kB/s)\n",
      "Reading package lists... Done\n"
     ]
    }
   ],
   "source": [
    "import os\n",
    "# Find the latest version of spark 3.0  from http://www.apache.org/dist/spark/ and enter as the spark version\n",
    "spark_version = 'spark-3.2.1'\n",
    "os.environ['SPARK_VERSION']=spark_version\n",
    "\n",
    "# Install Spark and Java\n",
    "!apt-get update\n",
    "!apt-get install openjdk-8-jdk-headless -qq > /dev/null\n",
    "!wget -q http://www.apache.org/dist/spark/$SPARK_VERSION/$SPARK_VERSION-bin-hadoop2.7.tgz\n",
    "!tar xf $SPARK_VERSION-bin-hadoop2.7.tgz\n",
    "!pip install -q findspark\n",
    "\n",
    "# Set Environment Variables\n",
    "os.environ[\"JAVA_HOME\"] = \"/usr/lib/jvm/java-8-openjdk-amd64\"\n",
    "os.environ[\"SPARK_HOME\"] = f\"/content/{spark_version}-bin-hadoop2.7\"\n",
    "\n",
    "# Start a SparkSession\n",
    "import findspark\n",
    "findspark.init()"
   ]
  },
  {
   "cell_type": "code",
   "execution_count": 44,
   "metadata": {
    "colab": {
     "base_uri": "https://localhost:8080/"
    },
    "id": "UR6XwqhsJsRh",
    "outputId": "baf2fcde-8419-49e9-93ee-36a4074de92b"
   },
   "outputs": [
    {
     "name": "stdout",
     "output_type": "stream",
     "text": [
      "--2022-02-08 22:40:50--  https://jdbc.postgresql.org/download/postgresql-42.2.9.jar\n",
      "Resolving jdbc.postgresql.org (jdbc.postgresql.org)... 72.32.157.228, 2001:4800:3e1:1::228\n",
      "Connecting to jdbc.postgresql.org (jdbc.postgresql.org)|72.32.157.228|:443... connected.\n",
      "HTTP request sent, awaiting response... 200 OK\n",
      "Length: 914037 (893K) [application/java-archive]\n",
      "Saving to: ‘postgresql-42.2.9.jar.2’\n",
      "\n",
      "postgresql-42.2.9.j 100%[===================>] 892.61K  2.90MB/s    in 0.3s    \n",
      "\n",
      "2022-02-08 22:40:51 (2.90 MB/s) - ‘postgresql-42.2.9.jar.2’ saved [914037/914037]\n",
      "\n"
     ]
    }
   ],
   "source": [
    "!wget https://jdbc.postgresql.org/download/postgresql-42.2.9.jar"
   ]
  },
  {
   "cell_type": "code",
   "execution_count": 45,
   "metadata": {
    "id": "kk4Q9TS2JsRh"
   },
   "outputs": [],
   "source": [
    "from pyspark.sql import SparkSession\n",
    "spark = SparkSession.builder.appName(\"CloudETL\").config(\"spark.driver.extraClassPath\",\"/content/postgresql-42.2.9.jar\").getOrCreate()\n"
   ]
  },
  {
   "cell_type": "markdown",
   "metadata": {
    "id": "bluE5biYfwat"
   },
   "source": [
    "# EXTRACT"
   ]
  },
  {
   "cell_type": "code",
   "execution_count": 48,
   "metadata": {
    "colab": {
     "base_uri": "https://localhost:8080/"
    },
    "id": "aIGU4Tzs_Q4g",
    "outputId": "27158fd9-b04c-4245-91ae-0ad575774aa8"
   },
   "outputs": [
    {
     "name": "stdout",
     "output_type": "stream",
     "text": [
      "+-----------+-----------+--------------+----------+--------------+--------------------+----------------+-----------+-------------+-----------+----+-----------------+--------------------+--------------------+-------------------+\n",
      "|marketplace|customer_id|     review_id|product_id|product_parent|       product_title|product_category|star_rating|helpful_votes|total_votes|vine|verified_purchase|     review_headline|         review_body|        review_date|\n",
      "+-----------+-----------+--------------+----------+--------------+--------------------+----------------+-----------+-------------+-----------+----+-----------------+--------------------+--------------------+-------------------+\n",
      "|         US|   18446823|R35T75OLUGHL5C|B000NV6H94|     110804376|Stearns Youth Boa...|        Outdoors|          4|            0|          0|   N|                Y|          Four Stars|          GOOD VALUE|2015-01-31 00:08:00|\n",
      "|         US|   13724367|R2BV735O46BN33|B000IN0W3Y|     624096774|Primal Wear Men's...|        Outdoors|          5|            0|          0|   N|                Y|          Five Stars|  Excellent quality.|2015-01-31 00:08:00|\n",
      "|         US|   51001958|R2NBEUGPQQGXP1|B008RBJXFM|     278970944|Osprey Hydraulics...|        Outdoors|          4|            0|          0|   N|                Y|Only Flaw Is The Cap|3rd season using ...|2015-01-31 00:08:00|\n",
      "|         US|   32866903|R17LLAOJ8ITK0S|B00FK8WUQY|     312877650|CamelBak eddy .75...|        Outdoors|          3|            1|          1|   N|                Y|Poor design leads...|poor construction...|2015-01-31 00:08:00|\n",
      "|         US|   30907790|R39PEQBT5ISEF4|B00EZA3VW0|     305567912|Children Black Re...|        Outdoors|          1|            0|          0|   N|                Y|Very bad quality,...|Very bad quality,...|2015-01-31 00:08:00|\n",
      "|         US|   20232229|R3GNM3SU9VHJFT|B006JA8WEG|     842306035|Ibera Bicycle Tri...|        Outdoors|          4|            1|          1|   N|                Y|Nice bag. Should ...|Nice bag. Should ...|2015-01-31 00:08:00|\n",
      "|         US|   17698862| R2Y81OP0EK467|B002PWFSEO|     451480122|Therm-a-Rest Comp...|        Outdoors|          5|            0|          0|   N|                Y|Very comfortable ...|Gave this to my s...|2015-01-31 00:08:00|\n",
      "|         US|   38486114|R2LFGSI6HAYH5F|B002DZGKHW|     124386306|Sawyer Products P...|        Outdoors|          5|            1|          1|   N|                Y| Worked like a charm|Went on vacation ...|2015-01-31 00:08:00|\n",
      "|         US|   26319572|R297G6ED1IQO7W|B00ABA08F6|     991442421|Zippo Hand Warmer...|        Outdoors|          5|            1|          1|   N|                Y|Great item. Gets ...|Great item. Gets ...|2015-01-31 00:08:00|\n",
      "|         US|   27152337| RE27RFC6101N6|B003Z8WIHC|     886483892|Camp Chef Dutch O...|        Outdoors|          5|            0|          0|   N|                Y|Great value for t...|I am so glad I bo...|2015-01-31 00:08:00|\n",
      "+-----------+-----------+--------------+----------+--------------+--------------------+----------------+-----------+-------------+-----------+----+-----------------+--------------------+--------------------+-------------------+\n",
      "only showing top 10 rows\n",
      "\n"
     ]
    }
   ],
   "source": [
    "# Read in the data from S3 Buckets from Amazon\n",
    "from pyspark import SparkFiles\n",
    "# Load in Outdoor data from S3 into a DataFrame\n",
    "url = \"https://s3.amazonaws.com/amazon-reviews-pds/tsv/amazon_reviews_us_Outdoors_v1_00.tsv.gz\"\n",
    "spark.sparkContext.addFile(url)\n",
    "\n",
    "df = spark.read.option('header', 'true').csv(SparkFiles.get(\"amazon_reviews_us_Outdoors_v1_00.tsv.gz\"), inferSchema=True, sep='\\t', timestampFormat=\"yyyy-mm-dd\")\n",
    "df.show(10)\n"
   ]
  },
  {
   "cell_type": "markdown",
   "metadata": {
    "id": "Vdhi7Genf3vH"
   },
   "source": [
    "# TRANSFORM"
   ]
  },
  {
   "cell_type": "markdown",
   "metadata": {
    "id": "kdtKPZ1w_V3e"
   },
   "source": [
    "## Counting Records: Drop duplicates and incomplete rows"
   ]
  },
  {
   "cell_type": "code",
   "execution_count": 49,
   "metadata": {
    "colab": {
     "base_uri": "https://localhost:8080/"
    },
    "id": "10qoqQv3_Y_w",
    "outputId": "ca52b9e0-55ef-4fa5-d200-353b33e54e58"
   },
   "outputs": [
    {
     "name": "stdout",
     "output_type": "stream",
     "text": [
      "2302401\n",
      "2302174\n",
      "2302174\n"
     ]
    }
   ],
   "source": [
    "print(df.count())\n",
    "df = df.dropna()\n",
    "print(df.count())\n",
    "df = df.dropDuplicates()\n",
    "print(df.count())"
   ]
  },
  {
   "cell_type": "markdown",
   "metadata": {
    "id": "GAgvBYkG_awE"
   },
   "source": [
    "## Examine the schema"
   ]
  },
  {
   "cell_type": "code",
   "execution_count": 50,
   "metadata": {
    "colab": {
     "base_uri": "https://localhost:8080/"
    },
    "id": "SXtPi-Hw_dCe",
    "outputId": "3c1dd957-2d67-4a55-f009-b615833c3b1d"
   },
   "outputs": [
    {
     "name": "stdout",
     "output_type": "stream",
     "text": [
      "root\n",
      " |-- marketplace: string (nullable = true)\n",
      " |-- customer_id: integer (nullable = true)\n",
      " |-- review_id: string (nullable = true)\n",
      " |-- product_id: string (nullable = true)\n",
      " |-- product_parent: integer (nullable = true)\n",
      " |-- product_title: string (nullable = true)\n",
      " |-- product_category: string (nullable = true)\n",
      " |-- star_rating: integer (nullable = true)\n",
      " |-- helpful_votes: integer (nullable = true)\n",
      " |-- total_votes: integer (nullable = true)\n",
      " |-- vine: string (nullable = true)\n",
      " |-- verified_purchase: string (nullable = true)\n",
      " |-- review_headline: string (nullable = true)\n",
      " |-- review_body: string (nullable = true)\n",
      " |-- review_date: timestamp (nullable = true)\n",
      "\n"
     ]
    }
   ],
   "source": [
    "df.printSchema()"
   ]
  },
  {
   "cell_type": "markdown",
   "metadata": {
    "id": "Dfa9EttfhONv"
   },
   "source": [
    "### SCHEMA TO REFER TO\n",
    "CREATE TABLE review_id_table (\n",
    "  review_id TEXT PRIMARY KEY NOT NULL,\n",
    "  customer_id INTEGER,\n",
    "  product_id TEXT,\n",
    "  product_parent INTEGER,\n",
    "  review_date DATE -- this should be in the formate yyyy-mm-dd\n",
    ");\n",
    "\n",
    "-- This table will contain only unique values\n",
    "CREATE TABLE products (\n",
    "  product_id TEXT PRIMARY KEY NOT NULL UNIQUE,\n",
    "  product_title TEXT\n",
    ");\n",
    "\n",
    "-- Customer table for first data set\n",
    "CREATE TABLE customers (\n",
    "  customer_id INT PRIMARY KEY NOT NULL UNIQUE,\n",
    "  customer_count INT\n",
    ");\n",
    "\n",
    "-- vine table\n",
    "CREATE TABLE vine_table (\n",
    "  review_id TEXT PRIMARY KEY,\n",
    "  star_rating INTEGER,\n",
    "  helpful_votes INTEGER,\n",
    "  total_votes INTEGER,\n",
    "  vine TEXT\n",
    ");\n"
   ]
  },
  {
   "cell_type": "code",
   "execution_count": 51,
   "metadata": {
    "id": "wB0q8nQohnkW"
   },
   "outputs": [],
   "source": [
    "# Change datatypes: \n",
    "# Source: https://stackoverflow.com/questions/32284620/how-to-change-a-dataframe-column-from-string-type-to-double-type-in-pyspark\n",
    "\n",
    "#from pyspark.sql.types import TimestampType, IntegerType\n",
    "# timestamp matched when loading\n",
    "#  |-- review_body: string (nullable = true).   # review_date DATE\n",
    "#customer_count INT. need to create\n",
    "\n",
    "# sample code for changing\n",
    "# dfc = df.withColumn(\"customer_id\", df[\"customer_id\"].cast(IntegerType()))\\\n",
    "#        .withColumn(\"review_date\", df[\"review_date\"].cast(TimestampType()))\\\n",
    "\n"
   ]
  },
  {
   "cell_type": "markdown",
   "metadata": {
    "id": "pQBu0AsYSpWA"
   },
   "source": [
    "Review table"
   ]
  },
  {
   "cell_type": "code",
   "execution_count": 52,
   "metadata": {
    "colab": {
     "base_uri": "https://localhost:8080/"
    },
    "id": "IZ3xmUMXlyQC",
    "outputId": "31aa8de8-8afd-4e4f-a350-eddfaf71bfce"
   },
   "outputs": [
    {
     "name": "stdout",
     "output_type": "stream",
     "text": [
      "+--------------+-----------+----------+--------------+-------------------+\n",
      "|     review_id|customer_id|product_id|product_parent|        review_date|\n",
      "+--------------+-----------+----------+--------------+-------------------+\n",
      "|R100AJS24RR6PQ|   44185913|B000IZX0SG|     373520218|2015-01-22 00:02:00|\n",
      "|R100F6MBZKRAFD|   49266466|B00NCJPXEO|      80630966|2014-01-01 00:12:00|\n",
      "|R100Y47MF2D3EF|   29788575|B001O5M1CA|     139791691|2013-01-27 00:05:00|\n",
      "|R101EMNRQWQ4NA|   49971220|B00A2C8BXO|     949028516|2014-01-17 00:10:00|\n",
      "|R101T5ACN6GE6Y|    1512429|B000NPCSU2|     435965836|2015-01-04 00:02:00|\n",
      "|R102458UPCSCJF|   10518483|B000IZGF42|     100719823|2015-01-01 00:07:00|\n",
      "|R102MVX3XAWLW8|   17049802|B009R9FUI2|     232637943|2013-01-28 00:05:00|\n",
      "|R1030MR86HT0G5|   22406799|B0000AUSFB|     145114599|2013-01-02 00:02:00|\n",
      "|R10358ROTFT3IB|     928913|B00LA97I8M|     165160843|2015-01-06 00:05:00|\n",
      "|R103VYR9VYTJLB|   31778769|B000K00O1A|     267773760|2015-01-18 00:04:00|\n",
      "|R10409ALR168X3|   32023845|B004X55NEG|     150248498|2013-01-20 00:03:00|\n",
      "|R104F0FVV92T5I|   41781148|B001GSONUI|     586388708|2011-01-15 00:03:00|\n",
      "|R104RUECA3QHXR|     336894|B002HMD8YY|     854049810|2015-01-10 00:05:00|\n",
      "|R105AJ8IYCFIXJ|   16037357|B00MX90AFQ|     464839910|2015-01-28 00:06:00|\n",
      "|R105HZOQV8QY4P|   16280447|B00EW0CG2Y|     785213515|2015-01-29 00:03:00|\n",
      "|R106CIMH8C3OBN|   35003594|B004CG9RGQ|     366026861|2012-01-22 00:05:00|\n",
      "|R106N9KX0OGDYX|     531994|B00MI5U47E|     893560228|2015-01-23 00:06:00|\n",
      "|R106UXYJ4FAXXK|   21945568|B00180MO2S|     598514975|2015-01-04 00:07:00|\n",
      "|R106XGR5B8Y6F4|   36162526|B00ASCO4O8|     753279606|2015-01-03 00:06:00|\n",
      "|R107EFMU8QKY03|   46283175|B00HSHFLIO|     684285237|2014-01-28 00:10:00|\n",
      "+--------------+-----------+----------+--------------+-------------------+\n",
      "only showing top 20 rows\n",
      "\n"
     ]
    }
   ],
   "source": [
    "## Creater review_id_table DataFrame\n",
    "review_id_table_df = df.select([\"review_id\",\"customer_id\",\"product_id\", \"product_parent\",\"review_date\"])\n",
    "review_id_table_df.show()"
   ]
  },
  {
   "cell_type": "code",
   "execution_count": 53,
   "metadata": {
    "colab": {
     "base_uri": "https://localhost:8080/"
    },
    "id": "oZ1yh_nErvjm",
    "outputId": "c4fb883b-3dc6-44ea-9c9d-19f2900cd3a8"
   },
   "outputs": [
    {
     "name": "stdout",
     "output_type": "stream",
     "text": [
      "root\n",
      " |-- review_id: string (nullable = true)\n",
      " |-- customer_id: integer (nullable = true)\n",
      " |-- product_id: string (nullable = true)\n",
      " |-- product_parent: integer (nullable = true)\n",
      " |-- review_date: timestamp (nullable = true)\n",
      "\n"
     ]
    }
   ],
   "source": [
    "# Print schema\n",
    "review_id_table_df.printSchema()"
   ]
  },
  {
   "cell_type": "markdown",
   "metadata": {
    "id": "WTZrqVdZR4SY"
   },
   "source": [
    "Products table"
   ]
  },
  {
   "cell_type": "code",
   "execution_count": 54,
   "metadata": {
    "colab": {
     "base_uri": "https://localhost:8080/"
    },
    "id": "hPoyebAssP5O",
    "outputId": "2639c3b7-1298-42e6-e2a9-054158725028"
   },
   "outputs": [
    {
     "name": "stdout",
     "output_type": "stream",
     "text": [
      "+----------+--------------------+\n",
      "|product_id|       product_title|\n",
      "+----------+--------------------+\n",
      "|B00IFHFJXI|Ivation Portable ...|\n",
      "|B00WG0J0D0|JanSport Superbre...|\n",
      "|B00V15AUN0|Nickelodeon Paw P...|\n",
      "|B00FUWSTI8|Bago Lightweight ...|\n",
      "|B003FV94NA|Michelin Lithion ...|\n",
      "|B00WIK04HO|Ultra Bright Camp...|\n",
      "|B00J2HSCM0|High Sierra Tank ...|\n",
      "|B009I6NSR4|Black Veil Brides...|\n",
      "|B001GSHSLE|Stansport 191 App...|\n",
      "|B00L2IO9M4|Columbia Sportswe...|\n",
      "|B00KY7IM7W|Nalgene 32 Oz Wid...|\n",
      "|B00TV5JCTK|Rollerblade ABEC ...|\n",
      "|B00B9D071Y|BUFF UV Multifunc...|\n",
      "|B00F9IGIKO|Condor Tactical F...|\n",
      "|B004X55L9I|Hydro Flask Insul...|\n",
      "|B00LORROIY|Scuba Choice Divi...|\n",
      "|B00AATRU8G|Kelty Redwing 44 ...|\n",
      "|B00HMCYWEO|Dakine Explorer L...|\n",
      "|B004DK1CM8|Hot Headz 12V Hea...|\n",
      "|B00T4W6SSS|Fits Sock Light H...|\n",
      "+----------+--------------------+\n",
      "only showing top 20 rows\n",
      "\n"
     ]
    }
   ],
   "source": [
    "# Create product dataframe to match products table(only unique values)\n",
    "products_df = df.select([\"product_id\",\"product_title\"])\n",
    "products_df = products_df.dropDuplicates()\n",
    "products_df.show()\n"
   ]
  },
  {
   "cell_type": "markdown",
   "metadata": {
    "id": "RCpWoY6FR7kn"
   },
   "source": [
    "Customers table"
   ]
  },
  {
   "cell_type": "code",
   "execution_count": 55,
   "metadata": {
    "colab": {
     "base_uri": "https://localhost:8080/"
    },
    "id": "Sv-9C5vhtaTA",
    "outputId": "4b0a5953-1d77-46f7-b90c-ffbf8043ef07"
   },
   "outputs": [
    {
     "name": "stdout",
     "output_type": "stream",
     "text": [
      "+-----------+--------------+\n",
      "|customer_id|customer_count|\n",
      "+-----------+--------------+\n",
      "|   13355404|           291|\n",
      "|   47355039|           205|\n",
      "|   51155788|           197|\n",
      "|   20433453|           129|\n",
      "|   40944345|           128|\n",
      "|    3247563|           128|\n",
      "|   27550730|           125|\n",
      "|   30636778|           115|\n",
      "|   10796373|           113|\n",
      "|   16255502|           112|\n",
      "|   40364490|           112|\n",
      "|   38137849|           111|\n",
      "|   52988261|           109|\n",
      "|   36205928|           108|\n",
      "|   18466687|           104|\n",
      "|   52196389|           104|\n",
      "|   44142946|           102|\n",
      "|   49782074|           100|\n",
      "|   45014035|           100|\n",
      "|   31807575|            98|\n",
      "+-----------+--------------+\n",
      "only showing top 20 rows\n",
      "\n"
     ]
    }
   ],
   "source": [
    "# Create customers dataframe to match customers table\n",
    "from pyspark.sql.functions import desc\n",
    "\n",
    "customers_df = df.groupby(\"customer_id\").agg({\"customer_id\":\"count\"})\n",
    "customers_df = customers_df.orderBy(desc(\"count(customer_id)\"))\n",
    "customers_df = customers_df.withColumnRenamed(\"count(customer_id)\", \"customer_count\") \n",
    "customers_df.show()"
   ]
  },
  {
   "cell_type": "markdown",
   "metadata": {
    "id": "OYo5wvsMSRA9"
   },
   "source": [
    "Vine table"
   ]
  },
  {
   "cell_type": "code",
   "execution_count": 56,
   "metadata": {
    "colab": {
     "base_uri": "https://localhost:8080/"
    },
    "id": "QUPVAbqPuAYt",
    "outputId": "acbed000-7066-450c-96e1-a6745d803973"
   },
   "outputs": [
    {
     "name": "stdout",
     "output_type": "stream",
     "text": [
      "+--------------+-----------+-------------+-----------+----+\n",
      "|     review_id|star_rating|helpful_votes|total_votes|vine|\n",
      "+--------------+-----------+-------------+-----------+----+\n",
      "|R100AJS24RR6PQ|          2|            0|          0|   N|\n",
      "|R100F6MBZKRAFD|          4|            0|          0|   N|\n",
      "|R100Y47MF2D3EF|          5|            0|          0|   N|\n",
      "|R101EMNRQWQ4NA|          5|            0|          0|   N|\n",
      "|R101T5ACN6GE6Y|          5|            0|          0|   N|\n",
      "|R102458UPCSCJF|          5|            0|          0|   N|\n",
      "|R102MVX3XAWLW8|          1|           13|         66|   N|\n",
      "|R1030MR86HT0G5|          4|            1|          1|   N|\n",
      "|R10358ROTFT3IB|          5|            1|          1|   N|\n",
      "|R103VYR9VYTJLB|          5|            0|          0|   N|\n",
      "|R10409ALR168X3|          5|            0|          0|   N|\n",
      "|R104F0FVV92T5I|          4|            1|          1|   N|\n",
      "|R104RUECA3QHXR|          1|            0|          1|   N|\n",
      "|R105AJ8IYCFIXJ|          5|            0|          1|   N|\n",
      "|R105HZOQV8QY4P|          5|            0|          0|   N|\n",
      "|R106CIMH8C3OBN|          5|            6|          6|   N|\n",
      "|R106N9KX0OGDYX|          5|            0|          0|   N|\n",
      "|R106UXYJ4FAXXK|          3|            0|          0|   N|\n",
      "|R106XGR5B8Y6F4|          3|            0|          1|   N|\n",
      "|R107EFMU8QKY03|          5|            0|          0|   N|\n",
      "+--------------+-----------+-------------+-----------+----+\n",
      "only showing top 20 rows\n",
      "\n"
     ]
    }
   ],
   "source": [
    "# Create vine_table DataFrame\n",
    "\n",
    "# Load in a sql function to use columns\n",
    "from pyspark.sql.functions import col\n",
    "\n",
    "vine_table_df = df.select([\"review_id\",\"star_rating\",\"helpful_votes\", \"total_votes\",\"vine\"])\n",
    "\n",
    "#show\n",
    "vine_table_df.show() "
   ]
  },
  {
   "cell_type": "code",
   "execution_count": null,
   "metadata": {
    "id": "lHxC5GMpv-Me"
   },
   "outputs": [],
   "source": [
    "# DataFrame to RDS\n",
    "# Configuration for RDS instance\n",
    "mode=\"append\"\n",
    "jdbc_url = \"jdbc:postgresql://<insert endpoint>:5432/<edit database name>\"\n",
    "config = {\"user\":\"root\",\n",
    "          \"password\": \"<insert password>\",\n",
    "          \"driver\":\"org.postgresql.Driver\"}"
   ]
  },
  {
   "cell_type": "code",
   "execution_count": 58,
   "metadata": {
    "id": "NB4B7yOAv-X3"
   },
   "outputs": [],
   "source": [
    "# Write DataFrame to RDS\n",
    "review_id_table_df.write.jdbc(url=jdbc_url, table='review_id_table', mode=mode, properties=config)\n"
   ]
  },
  {
   "cell_type": "code",
   "execution_count": 20,
   "metadata": {
    "id": "MSlTvjDMv-da"
   },
   "outputs": [],
   "source": [
    "# Write DataFrame to products table in RDS\n",
    "products_df.write.jdbc(url=jdbc_url, table='products', mode=mode, properties=config)\n"
   ]
  },
  {
   "cell_type": "code",
   "execution_count": 59,
   "metadata": {
    "id": "0OBannh2v-iZ"
   },
   "outputs": [],
   "source": [
    "# Write DataFrame to customers table in RDS\n",
    "customers_df.write.jdbc(url=jdbc_url, table='customers', mode=mode, properties=config)\n"
   ]
  },
  {
   "cell_type": "code",
   "execution_count": 22,
   "metadata": {
    "id": "afoM2oPyxKw9"
   },
   "outputs": [],
   "source": [
    "# Write DataFrame to vine_table table in RDS\n",
    "vine_table_df.write.jdbc(url=jdbc_url, table='vine_table', mode=mode, properties=config)\n"
   ]
  },
  {
   "cell_type": "code",
   "execution_count": null,
   "metadata": {
    "id": "Lm8ZSavmxK4E"
   },
   "outputs": [],
   "source": []
  }
 ],
 "metadata": {
  "colab": {
   "collapsed_sections": [],
   "name": "Amazon-OutDoors-ETL.ipynb",
   "provenance": []
  },
  "kernelspec": {
   "display_name": "Python 3",
   "language": "python",
   "name": "python3"
  },
  "language_info": {
   "codemirror_mode": {
    "name": "ipython",
    "version": 3
   },
   "file_extension": ".py",
   "mimetype": "text/x-python",
   "name": "python",
   "nbconvert_exporter": "python",
   "pygments_lexer": "ipython3",
   "version": "3.6.13"
  },
  "latex_envs": {
   "LaTeX_envs_menu_present": true,
   "autoclose": false,
   "autocomplete": true,
   "bibliofile": "biblio.bib",
   "cite_by": "apalike",
   "current_citInitial": 1,
   "eqLabelWithNumbers": true,
   "eqNumInitial": 1,
   "hotkeys": {
    "equation": "Ctrl-E",
    "itemize": "Ctrl-I"
   },
   "labels_anchors": false,
   "latex_user_defs": false,
   "report_style_numbering": false,
   "user_envs_cfg": false
  }
 },
 "nbformat": 4,
 "nbformat_minor": 1
}
