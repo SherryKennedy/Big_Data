{
 "cells": [
  {
   "cell_type": "code",
   "execution_count": 1,
   "metadata": {
    "colab": {
     "base_uri": "https://localhost:8080/"
    },
    "id": "Y6pz7LGh_L1p",
    "outputId": "a845cd91-3988-46a8-f1c8-6aee1e5820c1"
   },
   "outputs": [
    {
     "name": "stdout",
     "output_type": "stream",
     "text": [
      "Get:1 https://cloud.r-project.org/bin/linux/ubuntu bionic-cran40/ InRelease [3,626 B]\n",
      "Get:2 http://security.ubuntu.com/ubuntu bionic-security InRelease [88.7 kB]\n",
      "Ign:3 https://developer.download.nvidia.com/compute/cuda/repos/ubuntu1804/x86_64  InRelease\n",
      "Get:4 http://ppa.launchpad.net/c2d4u.team/c2d4u4.0+/ubuntu bionic InRelease [15.9 kB]\n",
      "Ign:5 https://developer.download.nvidia.com/compute/machine-learning/repos/ubuntu1804/x86_64  InRelease\n",
      "Hit:6 http://archive.ubuntu.com/ubuntu bionic InRelease\n",
      "Get:7 https://developer.download.nvidia.com/compute/cuda/repos/ubuntu1804/x86_64  Release [696 B]\n",
      "Hit:8 https://developer.download.nvidia.com/compute/machine-learning/repos/ubuntu1804/x86_64  Release\n",
      "Get:9 https://developer.download.nvidia.com/compute/cuda/repos/ubuntu1804/x86_64  Release.gpg [836 B]\n",
      "Get:10 http://archive.ubuntu.com/ubuntu bionic-updates InRelease [88.7 kB]\n",
      "Hit:11 http://ppa.launchpad.net/cran/libgit2/ubuntu bionic InRelease\n",
      "Get:12 http://archive.ubuntu.com/ubuntu bionic-backports InRelease [74.6 kB]\n",
      "Hit:13 http://ppa.launchpad.net/deadsnakes/ppa/ubuntu bionic InRelease\n",
      "Get:14 http://ppa.launchpad.net/graphics-drivers/ppa/ubuntu bionic InRelease [21.3 kB]\n",
      "Get:15 http://security.ubuntu.com/ubuntu bionic-security/multiverse amd64 Packages [21.1 kB]\n",
      "Get:16 http://security.ubuntu.com/ubuntu bionic-security/restricted amd64 Packages [781 kB]\n",
      "Get:17 http://security.ubuntu.com/ubuntu bionic-security/main amd64 Packages [2,557 kB]\n",
      "Get:18 http://security.ubuntu.com/ubuntu bionic-security/universe amd64 Packages [1,466 kB]\n",
      "Get:20 https://developer.download.nvidia.com/compute/cuda/repos/ubuntu1804/x86_64  Packages [917 kB]\n",
      "Get:21 http://ppa.launchpad.net/c2d4u.team/c2d4u4.0+/ubuntu bionic/main Sources [1,825 kB]\n",
      "Get:22 http://archive.ubuntu.com/ubuntu bionic-updates/main amd64 Packages [2,995 kB]\n",
      "Get:23 http://ppa.launchpad.net/c2d4u.team/c2d4u4.0+/ubuntu bionic/main amd64 Packages [935 kB]\n",
      "Get:24 http://archive.ubuntu.com/ubuntu bionic-updates/multiverse amd64 Packages [29.1 kB]\n",
      "Get:25 http://archive.ubuntu.com/ubuntu bionic-updates/restricted amd64 Packages [815 kB]\n",
      "Get:26 http://ppa.launchpad.net/graphics-drivers/ppa/ubuntu bionic/main amd64 Packages [42.8 kB]\n",
      "Get:27 http://archive.ubuntu.com/ubuntu bionic-updates/universe amd64 Packages [2,244 kB]\n",
      "Fetched 14.9 MB in 8s (1,843 kB/s)\n",
      "Reading package lists... Done\n"
     ]
    }
   ],
   "source": [
    "import os\n",
    "# Find the latest version of spark 3.0  from http://www.apache.org/dist/spark/ and enter as the spark version\n",
    "spark_version = 'spark-3.2.1'\n",
    "os.environ['SPARK_VERSION']=spark_version\n",
    "\n",
    "# Install Spark and Java\n",
    "!apt-get update\n",
    "!apt-get install openjdk-8-jdk-headless -qq > /dev/null\n",
    "!wget -q http://www.apache.org/dist/spark/$SPARK_VERSION/$SPARK_VERSION-bin-hadoop2.7.tgz\n",
    "!tar xf $SPARK_VERSION-bin-hadoop2.7.tgz\n",
    "!pip install -q findspark\n",
    "\n",
    "# Set Environment Variables\n",
    "os.environ[\"JAVA_HOME\"] = \"/usr/lib/jvm/java-8-openjdk-amd64\"\n",
    "os.environ[\"SPARK_HOME\"] = f\"/content/{spark_version}-bin-hadoop2.7\"\n",
    "\n",
    "# Start a SparkSession\n",
    "import findspark\n",
    "findspark.init()"
   ]
  },
  {
   "cell_type": "code",
   "execution_count": 2,
   "metadata": {
    "colab": {
     "base_uri": "https://localhost:8080/"
    },
    "id": "UR6XwqhsJsRh",
    "outputId": "1a670111-f4e4-4982-93a6-8badd4cbe8d7"
   },
   "outputs": [
    {
     "name": "stdout",
     "output_type": "stream",
     "text": [
      "--2022-02-08 23:13:46--  https://jdbc.postgresql.org/download/postgresql-42.2.9.jar\n",
      "Resolving jdbc.postgresql.org (jdbc.postgresql.org)... 72.32.157.228, 2001:4800:3e1:1::228\n",
      "Connecting to jdbc.postgresql.org (jdbc.postgresql.org)|72.32.157.228|:443... connected.\n",
      "HTTP request sent, awaiting response... 200 OK\n",
      "Length: 914037 (893K) [application/java-archive]\n",
      "Saving to: ‘postgresql-42.2.9.jar’\n",
      "\n",
      "postgresql-42.2.9.j 100%[===================>] 892.61K  --.-KB/s    in 0.08s   \n",
      "\n",
      "2022-02-08 23:13:47 (10.7 MB/s) - ‘postgresql-42.2.9.jar’ saved [914037/914037]\n",
      "\n"
     ]
    }
   ],
   "source": [
    "!wget https://jdbc.postgresql.org/download/postgresql-42.2.9.jar"
   ]
  },
  {
   "cell_type": "code",
   "execution_count": 3,
   "metadata": {
    "id": "kk4Q9TS2JsRh"
   },
   "outputs": [],
   "source": [
    "from pyspark.sql import SparkSession\n",
    "spark = SparkSession.builder.appName(\"CloudETL\").config(\"spark.driver.extraClassPath\",\"/content/postgresql-42.2.9.jar\").getOrCreate()\n"
   ]
  },
  {
   "cell_type": "markdown",
   "metadata": {
    "id": "bluE5biYfwat"
   },
   "source": [
    "# EXTRACT"
   ]
  },
  {
   "cell_type": "code",
   "execution_count": 4,
   "metadata": {
    "colab": {
     "base_uri": "https://localhost:8080/"
    },
    "id": "aIGU4Tzs_Q4g",
    "outputId": "cd8ef22b-577b-4cd4-a1a3-ff9ad87aea22"
   },
   "outputs": [
    {
     "name": "stdout",
     "output_type": "stream",
     "text": [
      "+-----------+-----------+--------------+----------+--------------+--------------------+----------------+-----------+-------------+-----------+----+-----------------+--------------------+--------------------+-------------------+\n",
      "|marketplace|customer_id|     review_id|product_id|product_parent|       product_title|product_category|star_rating|helpful_votes|total_votes|vine|verified_purchase|     review_headline|         review_body|        review_date|\n",
      "+-----------+-----------+--------------+----------+--------------+--------------------+----------------+-----------+-------------+-----------+----+-----------------+--------------------+--------------------+-------------------+\n",
      "|         US|   18446823|R35T75OLUGHL5C|B000NV6H94|     110804376|Stearns Youth Boa...|        Outdoors|          4|            0|          0|   N|                Y|          Four Stars|          GOOD VALUE|2015-01-31 00:08:00|\n",
      "|         US|   13724367|R2BV735O46BN33|B000IN0W3Y|     624096774|Primal Wear Men's...|        Outdoors|          5|            0|          0|   N|                Y|          Five Stars|  Excellent quality.|2015-01-31 00:08:00|\n",
      "|         US|   51001958|R2NBEUGPQQGXP1|B008RBJXFM|     278970944|Osprey Hydraulics...|        Outdoors|          4|            0|          0|   N|                Y|Only Flaw Is The Cap|3rd season using ...|2015-01-31 00:08:00|\n",
      "|         US|   32866903|R17LLAOJ8ITK0S|B00FK8WUQY|     312877650|CamelBak eddy .75...|        Outdoors|          3|            1|          1|   N|                Y|Poor design leads...|poor construction...|2015-01-31 00:08:00|\n",
      "|         US|   30907790|R39PEQBT5ISEF4|B00EZA3VW0|     305567912|Children Black Re...|        Outdoors|          1|            0|          0|   N|                Y|Very bad quality,...|Very bad quality,...|2015-01-31 00:08:00|\n",
      "|         US|   20232229|R3GNM3SU9VHJFT|B006JA8WEG|     842306035|Ibera Bicycle Tri...|        Outdoors|          4|            1|          1|   N|                Y|Nice bag. Should ...|Nice bag. Should ...|2015-01-31 00:08:00|\n",
      "|         US|   17698862| R2Y81OP0EK467|B002PWFSEO|     451480122|Therm-a-Rest Comp...|        Outdoors|          5|            0|          0|   N|                Y|Very comfortable ...|Gave this to my s...|2015-01-31 00:08:00|\n",
      "|         US|   38486114|R2LFGSI6HAYH5F|B002DZGKHW|     124386306|Sawyer Products P...|        Outdoors|          5|            1|          1|   N|                Y| Worked like a charm|Went on vacation ...|2015-01-31 00:08:00|\n",
      "|         US|   26319572|R297G6ED1IQO7W|B00ABA08F6|     991442421|Zippo Hand Warmer...|        Outdoors|          5|            1|          1|   N|                Y|Great item. Gets ...|Great item. Gets ...|2015-01-31 00:08:00|\n",
      "|         US|   27152337| RE27RFC6101N6|B003Z8WIHC|     886483892|Camp Chef Dutch O...|        Outdoors|          5|            0|          0|   N|                Y|Great value for t...|I am so glad I bo...|2015-01-31 00:08:00|\n",
      "+-----------+-----------+--------------+----------+--------------+--------------------+----------------+-----------+-------------+-----------+----+-----------------+--------------------+--------------------+-------------------+\n",
      "only showing top 10 rows\n",
      "\n"
     ]
    }
   ],
   "source": [
    "# Read in the data from S3 Buckets from Amazon\n",
    "from pyspark import SparkFiles\n",
    "# Load in Outdoor data from S3 into a DataFrame\n",
    "url = \"https://s3.amazonaws.com/amazon-reviews-pds/tsv/amazon_reviews_us_Outdoors_v1_00.tsv.gz\"\n",
    "spark.sparkContext.addFile(url)\n",
    "\n",
    "df = spark.read.option('header', 'true').csv(SparkFiles.get(\"amazon_reviews_us_Outdoors_v1_00.tsv.gz\"), inferSchema=True, sep='\\t', timestampFormat=\"yyyy-mm-dd\")\n",
    "df.show(10)\n"
   ]
  },
  {
   "cell_type": "markdown",
   "metadata": {
    "id": "Vdhi7Genf3vH"
   },
   "source": [
    "# TRANSFORM"
   ]
  },
  {
   "cell_type": "markdown",
   "metadata": {
    "id": "kdtKPZ1w_V3e"
   },
   "source": [
    "## Counting Records: Drop duplicates and incomplete rows"
   ]
  },
  {
   "cell_type": "code",
   "execution_count": null,
   "metadata": {
    "colab": {
     "base_uri": "https://localhost:8080/"
    },
    "id": "10qoqQv3_Y_w",
    "outputId": "c8bbe0a7-22c2-4761-c121-ad3e2eeadcdf"
   },
   "outputs": [
    {
     "name": "stdout",
     "output_type": "stream",
     "text": [
      "2302401\n",
      "2302174\n",
      "2302174\n"
     ]
    }
   ],
   "source": [
    "print(df.count())\n",
    "df = df.dropna()\n",
    "print(df.count())\n",
    "df = df.dropDuplicates()\n",
    "print(df.count())"
   ]
  },
  {
   "cell_type": "markdown",
   "metadata": {
    "id": "GAgvBYkG_awE"
   },
   "source": [
    "## Examine the schema"
   ]
  },
  {
   "cell_type": "code",
   "execution_count": null,
   "metadata": {
    "colab": {
     "base_uri": "https://localhost:8080/"
    },
    "id": "SXtPi-Hw_dCe",
    "outputId": "e906fca1-2edd-4e93-87fc-e5d2427b8eef"
   },
   "outputs": [
    {
     "name": "stdout",
     "output_type": "stream",
     "text": [
      "root\n",
      " |-- marketplace: string (nullable = true)\n",
      " |-- customer_id: integer (nullable = true)\n",
      " |-- review_id: string (nullable = true)\n",
      " |-- product_id: string (nullable = true)\n",
      " |-- product_parent: integer (nullable = true)\n",
      " |-- product_title: string (nullable = true)\n",
      " |-- product_category: string (nullable = true)\n",
      " |-- star_rating: integer (nullable = true)\n",
      " |-- helpful_votes: integer (nullable = true)\n",
      " |-- total_votes: integer (nullable = true)\n",
      " |-- vine: string (nullable = true)\n",
      " |-- verified_purchase: string (nullable = true)\n",
      " |-- review_headline: string (nullable = true)\n",
      " |-- review_body: string (nullable = true)\n",
      " |-- review_date: timestamp (nullable = true)\n",
      "\n"
     ]
    }
   ],
   "source": [
    "df.printSchema()"
   ]
  },
  {
   "cell_type": "markdown",
   "metadata": {
    "id": "DPYz7Ax044aZ"
   },
   "source": [
    "### Created Tables in Level 1\n",
    "\n",
    "# Level 2  Bias & Analysis review\n"
   ]
  },
  {
   "cell_type": "code",
   "execution_count": null,
   "metadata": {
    "colab": {
     "base_uri": "https://localhost:8080/"
    },
    "id": "5gSyAvca4mG3",
    "outputId": "c98ef94c-86b7-4b4a-c857-1c54605b235f"
   },
   "outputs": [
    {
     "name": "stdout",
     "output_type": "stream",
     "text": [
      "+-----------+-------------+-----------+----+-----------------+\n",
      "|star_rating|helpful_votes|total_votes|vine|verified_purchase|\n",
      "+-----------+-------------+-----------+----+-----------------+\n",
      "|          2|            0|          0|   N|                Y|\n",
      "|          4|            0|          0|   N|                N|\n",
      "|          5|            0|          0|   N|                Y|\n",
      "|          5|            0|          0|   N|                Y|\n",
      "|          5|            0|          0|   N|                Y|\n",
      "|          5|            0|          0|   N|                Y|\n",
      "|          1|           13|         66|   N|                Y|\n",
      "|          4|            1|          1|   N|                Y|\n",
      "|          5|            1|          1|   N|                Y|\n",
      "|          5|            0|          0|   N|                Y|\n",
      "|          5|            0|          0|   N|                Y|\n",
      "|          4|            1|          1|   N|                N|\n",
      "|          1|            0|          1|   N|                Y|\n",
      "|          5|            0|          1|   N|                Y|\n",
      "|          5|            0|          0|   N|                Y|\n",
      "|          5|            6|          6|   N|                Y|\n",
      "|          5|            0|          0|   N|                Y|\n",
      "|          3|            0|          0|   N|                Y|\n",
      "|          3|            0|          1|   N|                Y|\n",
      "|          5|            0|          0|   N|                Y|\n",
      "+-----------+-------------+-----------+----+-----------------+\n",
      "only showing top 20 rows\n",
      "\n"
     ]
    }
   ],
   "source": [
    "### Created Tables in Level 1\n",
    "# LEVEL 2. (all info in s3 so create dataframe of table needed)\n",
    "# SPLIT REVIEWS : Paid vs Unpaid\n",
    "# Filtering for reviews that meet a certain number of 'helpful votes', 'total votes'\n",
    "\n",
    "# First select columns of interest for vine\n",
    "df_select = df.select([\"star_rating\", \"helpful_votes\", \"total_votes\", \"vine\", \"verified_purchase\"])\n",
    "df_select.show()"
   ]
  },
  {
   "cell_type": "code",
   "execution_count": null,
   "metadata": {
    "colab": {
     "base_uri": "https://localhost:8080/"
    },
    "id": "IZ3xmUMXlyQC",
    "outputId": "8ddcf851-534b-472d-e50d-4f5a5aff17fa"
   },
   "outputs": [
    {
     "name": "stdout",
     "output_type": "stream",
     "text": [
      "+-----------+-------------+-----------+----+-----------------+\n",
      "|star_rating|helpful_votes|total_votes|vine|verified_purchase|\n",
      "+-----------+-------------+-----------+----+-----------------+\n",
      "|          1|            9|         10|   N|                Y|\n",
      "|          1|           22|         28|   N|                Y|\n",
      "|          5|           15|         17|   N|                N|\n",
      "|          5|           11|         12|   N|                Y|\n",
      "|          5|           20|         25|   N|                N|\n",
      "|          5|           12|         14|   N|                Y|\n",
      "|          5|           31|         34|   N|                Y|\n",
      "|          1|            7|         13|   N|                N|\n",
      "|          5|           32|         36|   N|                Y|\n",
      "|          5|           25|         26|   N|                N|\n",
      "|          5|           11|         11|   N|                N|\n",
      "|          5|           17|         18|   N|                Y|\n",
      "|          5|           14|         14|   N|                Y|\n",
      "|          5|           16|         18|   N|                Y|\n",
      "|          5|            9|         11|   N|                Y|\n",
      "|          5|           12|         12|   N|                Y|\n",
      "|          5|           11|         12|   N|                Y|\n",
      "|          1|           20|         21|   N|                Y|\n",
      "|          2|           12|         13|   N|                Y|\n",
      "|          5|           19|         21|   N|                N|\n",
      "+-----------+-------------+-----------+----+-----------------+\n",
      "only showing top 20 rows\n",
      "\n"
     ]
    }
   ],
   "source": [
    "## Votes or Points of Interest:: review those who reviews were >=10. (good number of reviews)  filter helpful_votes/total_votes >=0.5 (votes were helpful)\n",
    "df_vine_POI = df_select.filter(\"total_votes>=10\").filter(df_select[\"helpful_votes\"]/df_select[\"total_votes\"] >= 0.5)\n",
    "df_vine_POI.show()"
   ]
  },
  {
   "cell_type": "markdown",
   "metadata": {
    "id": "eHNeyDPYODZO"
   },
   "source": [
    "## Analysis (compare the paid vs unpaid)\n"
   ]
  },
  {
   "cell_type": "code",
   "execution_count": null,
   "metadata": {
    "id": "SwSykE3Trrml"
   },
   "outputs": [],
   "source": [
    "# Create a DataFrame for paid and unpaid by filtering on vine\n",
    "from pyspark.sql.functions import col, avg\n",
    "df_paid = df_vine_POI.filter(\"vine='Y'\")\n",
    "df_unpaid = df_vine_POI.filter(\"vine='N'\")"
   ]
  },
  {
   "cell_type": "code",
   "execution_count": null,
   "metadata": {
    "colab": {
     "base_uri": "https://localhost:8080/"
    },
    "id": "oZ1yh_nErvjm",
    "outputId": "dc3d45cc-5028-4665-b522-c2531d4a3e72"
   },
   "outputs": [
    {
     "name": "stdout",
     "output_type": "stream",
     "text": [
      "+-------+------------------+-----------------+------------------+----+-----------------+\n",
      "|summary|       star_rating|    helpful_votes|       total_votes|vine|verified_purchase|\n",
      "+-------+------------------+-----------------+------------------+----+-----------------+\n",
      "|  count|               202|              202|               202| 202|              202|\n",
      "|   mean| 4.252475247524752|33.00990099009901|36.618811881188115|null|             null|\n",
      "| stddev|0.9253848530476053|38.25522955165541|40.554591210282126|null|             null|\n",
      "|    min|                 1|                6|                10|   Y|                N|\n",
      "|    max|                 5|              326|               340|   Y|                Y|\n",
      "+-------+------------------+-----------------+------------------+----+-----------------+\n",
      "\n"
     ]
    }
   ],
   "source": [
    "# Paid stats\n",
    "df_paid.describe().show()"
   ]
  },
  {
   "cell_type": "code",
   "execution_count": null,
   "metadata": {
    "colab": {
     "base_uri": "https://localhost:8080/"
    },
    "id": "hPoyebAssP5O",
    "outputId": "0633b0eb-bc01-41ec-fe77-c1969a55a395"
   },
   "outputs": [
    {
     "name": "stdout",
     "output_type": "stream",
     "text": [
      "+-------+------------------+------------------+------------------+-----+-----------------+\n",
      "|summary|       star_rating|     helpful_votes|       total_votes| vine|verified_purchase|\n",
      "+-------+------------------+------------------+------------------+-----+-----------------+\n",
      "|  count|             93116|             93116|             93116|93116|            93116|\n",
      "|   mean|3.8687336225782896|28.620731131062332| 31.45209201426178| null|             null|\n",
      "| stddev|1.4562311829199786|56.808061182273136|59.442526744269344| null|             null|\n",
      "|    min|                 1|                 5|                10|    N|                N|\n",
      "|    max|                 5|              2703|              2751|    N|                Y|\n",
      "+-------+------------------+------------------+------------------+-----+-----------------+\n",
      "\n"
     ]
    }
   ],
   "source": [
    "# unpaid stats\n",
    "df_unpaid.describe().show()\n"
   ]
  },
  {
   "cell_type": "markdown",
   "metadata": {
    "id": "T70WjTLsQDYh"
   },
   "source": [
    "# Paid Reviews for the 5-star ratings"
   ]
  },
  {
   "cell_type": "code",
   "execution_count": null,
   "metadata": {
    "colab": {
     "base_uri": "https://localhost:8080/"
    },
    "id": "Sv-9C5vhtaTA",
    "outputId": "e7a3723d-58f3-428e-8205-445599470542"
   },
   "outputs": [
    {
     "name": "stdout",
     "output_type": "stream",
     "text": [
      "The number of PAID five star reviews: 102\n"
     ]
    }
   ],
   "source": [
    "# count the number five star reviews\n",
    "five_star = df_paid[df_paid['star_rating'] == 5].count()\n",
    "print(f'The number of PAID five star reviews: {five_star}')"
   ]
  },
  {
   "cell_type": "code",
   "execution_count": null,
   "metadata": {
    "colab": {
     "base_uri": "https://localhost:8080/"
    },
    "id": "QUPVAbqPuAYt",
    "outputId": "a904584e-20c2-4673-836e-f36cd6dc45c2"
   },
   "outputs": [
    {
     "name": "stdout",
     "output_type": "stream",
     "text": [
      "The total number of PAID reviews: 202\n"
     ]
    }
   ],
   "source": [
    "# total number of PAID reviews:\n",
    "paid_ttl = df_paid.count()\n",
    "print(f'The total number of PAID reviews: {paid_ttl}')"
   ]
  },
  {
   "cell_type": "code",
   "execution_count": null,
   "metadata": {
    "colab": {
     "base_uri": "https://localhost:8080/"
    },
    "id": "lHxC5GMpv-Me",
    "outputId": "d0de0555-3729-4dc0-e3cf-13f482466c49"
   },
   "outputs": [
    {
     "name": "stdout",
     "output_type": "stream",
     "text": [
      "Percentage of paid five star reviews: 0.504950495049505\n"
     ]
    }
   ],
   "source": [
    "# Pecentage of paid five-star reviews in Vine\n",
    "print(f'Percentage of paid five star reviews: {five_star/paid_ttl}')"
   ]
  },
  {
   "cell_type": "markdown",
   "metadata": {
    "id": "PBiEhnqtTA_8"
   },
   "source": [
    "# Unpaid Reviews for the 5-star ratings"
   ]
  },
  {
   "cell_type": "code",
   "execution_count": null,
   "metadata": {
    "colab": {
     "base_uri": "https://localhost:8080/"
    },
    "id": "NB4B7yOAv-X3",
    "outputId": "d3056134-9e68-44f9-83b3-d7f4dc4e04d1"
   },
   "outputs": [
    {
     "name": "stdout",
     "output_type": "stream",
     "text": [
      "The number of UNPAID five star reviews: 48008\n"
     ]
    }
   ],
   "source": [
    "# unpaid five star reviews\n",
    "five_star_unpaid = df_unpaid[df_paid['star_rating'] == 5].count()\n",
    "print(f'The number of UNPAID five star reviews: {five_star_unpaid}')\n"
   ]
  },
  {
   "cell_type": "code",
   "execution_count": null,
   "metadata": {
    "colab": {
     "base_uri": "https://localhost:8080/"
    },
    "id": "MSlTvjDMv-da",
    "outputId": "0c86fc94-1a50-4709-c2d5-7798d12c45c3"
   },
   "outputs": [
    {
     "name": "stdout",
     "output_type": "stream",
     "text": [
      "The total number of UNPAID reviews: 93116\n"
     ]
    }
   ],
   "source": [
    "# total number of UNPAID reviews:\n",
    "unpaid_ttl = df_unpaid.count()\n",
    "print(f'The total number of UNPAID reviews: {unpaid_ttl}')\n"
   ]
  },
  {
   "cell_type": "code",
   "execution_count": null,
   "metadata": {
    "colab": {
     "base_uri": "https://localhost:8080/"
    },
    "id": "0OBannh2v-iZ",
    "outputId": "e96fbb8e-2292-4332-bafd-05c4c10fce51"
   },
   "outputs": [
    {
     "name": "stdout",
     "output_type": "stream",
     "text": [
      "Percentage of unpaid five star reviews: 0.515571974741183\n"
     ]
    }
   ],
   "source": [
    "# Pecentage of unpaid five-star reviews in non-Vine\n",
    "print(f'Percentage of unpaid five star reviews: {five_star_unpaid/unpaid_ttl}')\n"
   ]
  },
  {
   "cell_type": "markdown",
   "metadata": {
    "id": "Ln5F_r_EUy_o"
   },
   "source": [
    "# Analysis"
   ]
  },
  {
   "cell_type": "markdown",
   "metadata": {
    "id": "taDnS3BoU8ws"
   },
   "source": [
    "### From the reviews of interest:\n",
    "\n",
    "* We can see that the percentage of 5-star reviews in Vine is very close to non-Vine reviews (50.5% to 51.6%).\n",
    "\n",
    "* The total number of Vine reviews is pretty low (202), with an average Vine star rating of 4.25, with a standard deviation of 0.92\n",
    "\n",
    "* Compared to non-Vine reviews, total number is very high here (93116), with an average non-Vine star rating of 3.87, with a standard deviation of 1.46\n",
    "\n",
    "* It looks like the Vine ratings on average are giving a higher score and they are not deviating from this score as much as the non-vine ratings. Although, there are far fewer Vine ratings. \n",
    "\n",
    "* Is there a bias? It is fairly close to tell here. Although, there are far fewer Vine customers giving ratings, it looks like those that are rating give a rate closer to other vine members. \n",
    "\n",
    "* I would better trust the non-Vine ratings because there are far more and they additionally give a greater variety in the ratings. \n",
    "\n",
    "\n",
    "\n",
    "\n",
    "\n",
    "\n",
    "\n",
    "\n"
   ]
  },
  {
   "cell_type": "code",
   "execution_count": null,
   "metadata": {
    "id": "ZRh8IZwhxKzS"
   },
   "outputs": [],
   "source": []
  },
  {
   "cell_type": "code",
   "execution_count": null,
   "metadata": {
    "id": "Lm8ZSavmxK4E"
   },
   "outputs": [],
   "source": []
  }
 ],
 "metadata": {
  "colab": {
   "collapsed_sections": [],
   "name": "Amazon-OutDoors-ETL_2.ipynb",
   "provenance": []
  },
  "kernelspec": {
   "display_name": "Python 3",
   "language": "python",
   "name": "python3"
  },
  "language_info": {
   "codemirror_mode": {
    "name": "ipython",
    "version": 3
   },
   "file_extension": ".py",
   "mimetype": "text/x-python",
   "name": "python",
   "nbconvert_exporter": "python",
   "pygments_lexer": "ipython3",
   "version": "3.6.13"
  },
  "latex_envs": {
   "LaTeX_envs_menu_present": true,
   "autoclose": false,
   "autocomplete": true,
   "bibliofile": "biblio.bib",
   "cite_by": "apalike",
   "current_citInitial": 1,
   "eqLabelWithNumbers": true,
   "eqNumInitial": 1,
   "hotkeys": {
    "equation": "Ctrl-E",
    "itemize": "Ctrl-I"
   },
   "labels_anchors": false,
   "latex_user_defs": false,
   "report_style_numbering": false,
   "user_envs_cfg": false
  }
 },
 "nbformat": 4,
 "nbformat_minor": 1
}
